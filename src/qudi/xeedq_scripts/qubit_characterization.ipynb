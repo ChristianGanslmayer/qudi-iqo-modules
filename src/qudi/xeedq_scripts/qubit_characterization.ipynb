{
 "cells": [
  {
   "cell_type": "code",
   "execution_count": 8,
   "id": "91b595e2-c539-4bd9-b859-17cd566573d1",
   "metadata": {},
   "outputs": [],
   "source": [
    "import sys\n",
    "import time\n",
    "from qudi.util.network import netobtain\n",
    "import importlib\n",
    "sys.path.append('../xq1i')\n",
    "import libxq1i\n",
    "importlib.reload(libxq1i)\n",
    "\n",
    "confocal2 = libxq1i.xq1i(pulsed_master_logic, pulsed_measurement_logic, sequence_generator_logic)"
   ]
  },
  {
   "cell_type": "code",
   "execution_count": null,
   "id": "efef2630-e0d9-48cf-b3a6-fe04c406fc42",
   "metadata": {},
   "outputs": [],
   "source": [
    "freq_ranges = {\n",
    "    0: [1340.0e6, 0.50e6, 50],\n",
    "    1: [1340.0e6, 0.50e6, 50],\n",
    "    2: [1340.0e6, 0.50e6, 50],\n",
    "    3: [1340.0e6, 0.50e6, 50]\n",
    "}\n",
    "poi_list = [\n",
    "    {'poi': 'NV_01', 'orientations': [0,1,2,3]},\n",
    "    {'poi': 'NV_02', 'orientations': [0,1,2,3]},\n",
    "]\n",
    "\n",
    "\n",
    "for entry in poi_list:\n",
    "    currPoi = entry['poi']\n",
    "    print(f'go to POI {currPoi} ...')\n",
    "    poi_manager_logic.go_to_poi(currPoi)\n",
    "    poi_manager_logic.set_active_poi(currPoi)\n",
    "    time.sleep(1)\n",
    "\n",
    "    # switch laser on (for refocus)\n",
    "    confocal2.pulsed_laser_on()\n",
    "    # perform refocus\n",
    "    scanner_gui.toggle_optimize(True)\n",
    "    while scanner_gui.module_state() == 'locked' or (scanning_optimize_logic._sequence_index < len(scanning_optimize_logic._scan_sequence)):\n",
    "        time.sleep(0.1)\n",
    "    print( '... position and counts at peak after refocus: ' + scanner_gui.optimizer_dockwidget.result_label.text() )\n",
    "    # switch laser off (refocus finished)\n",
    "    pulsed_master_logic.toggle_pulsed_measurement(False)\n",
    "\n",
    "    for orientation in entry['orientations']:\n",
    "        print(f'start measurements for orientation {orientation} ...')\n",
    "        freq_range = freq_ranges[orientation]\n",
    "        \n",
    "        # pulsed ODMR\n",
    "        confocal2.pulsedODMR_params['freq_start'] = freq_range[0]\n",
    "        confocal2.pulsedODMR_params['freq_step'] = freq_range[1]\n",
    "        confocal2.pulsedODMR_params['num_of_points'] = freq_range[2]\n",
    "        confocal2.pulsedODMR_sweeps = 60e3\n",
    "        confocal2.do_pulsedODMR( f'{currPoi}_ornt_{orientation}')\n",
    "        result_dict = netobtain( pulsed_measurement_logic.do_fit('Lorentzian Dip') )\n",
    "        confocal2.calib_params['res_freq'] = result_dict.params['center'].value\n",
    "\n",
    "        # Rabi\n",
    "        confocal2.rabi_sweeps = 60e3\n",
    "        confocal2.do_rabi( f'{currPoi}_ornt_{orientation}' )\n",
    "        result_dict = netobtain( pulsed_measurement_logic.do_fit('Sine') )\n",
    "        confocal2.generate_params['rabi_period'] = float(1 / (result_dict.params['frequency'].value))\n",
    "        pulsed_master_logic.set_generation_parameters(confocal2.generate_params)\n",
    "\n",
    "        # Hahn echo\n",
    "        confocal2.hahn_sweeps = 60e3\n",
    "        confocal2.do_echo( f'{currPoi}_ornt_{orientation}' )"
   ]
  },
  {
   "cell_type": "code",
   "execution_count": null,
   "id": "63d4439f-9e06-42cd-967c-c350ca0e8bd9",
   "metadata": {},
   "outputs": [],
   "source": []
  }
 ],
 "metadata": {
  "kernelspec": {
   "display_name": "qudi",
   "language": "python",
   "name": "qudi"
  },
  "language_info": {
   "codemirror_mode": {
    "name": "ipython",
    "version": 3
   },
   "file_extension": ".py",
   "mimetype": "text/x-python",
   "name": "python",
   "nbconvert_exporter": "python",
   "pygments_lexer": "ipython3",
   "version": "3.10.12"
  }
 },
 "nbformat": 4,
 "nbformat_minor": 5
}
