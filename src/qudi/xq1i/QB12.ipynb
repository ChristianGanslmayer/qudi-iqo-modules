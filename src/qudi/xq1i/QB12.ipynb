{
 "cells": [
  {
   "cell_type": "markdown",
   "metadata": {},
   "source": [
    "## XQ1i interactive UI\n",
    "\n",
    "This notebook guides the user through the calibration and control of the four qubits (QBs) available with the XQ1i quantum processor:\n",
    "- QB1: NV electron spin\n",
    "- QB2: nitrogen ($^{14}$N) nuclear spin\n",
    "- QB3: carbon ($^{13}$C$_1$) nuclear spin\n",
    "- QB4: carbon ($^{13}$C$_2$) nuclear spin\n",
    "\n",
    "The first notebook cell imports the xq1i library (`libxq1i`) along with some other python modules to establish the communication to and initialization of the device. During initialization, the last saved calibration parameters are loaded from the hard drive (contained in the subfolder `calib_params`). In case the loaded calibration parameters are deemed to be outdated, a warning is printed. In such a case re-running the calibration cell is recommended."
   ]
  },
  {
   "cell_type": "code",
   "execution_count": null,
   "metadata": {},
   "outputs": [],
   "source": [
    "import time\n",
    "import datetime\n",
    "import os\n",
    "import json\n",
    "import numpy as np\n",
    "import matplotlib.pyplot as plt\n",
    "\n",
    "import importlib\n",
    "import libxq1i\n",
    "importlib.reload(libxq1i)\n",
    "\n",
    "try: \n",
    "   pulsed_master_logic\n",
    "except NameError:\n",
    "   manager.startModule('logic', 'pulsed_master_logic')\n",
    "\n",
    "xq1i = libxq1i.xq1i(pulsed_master_logic, pulsed_measurement_logic, sequence_generator_logic)"
   ]
  },
  {
   "cell_type": "markdown",
   "metadata": {},
   "source": [
    "### Calibration cell\n",
    "The following notebook cell performs the calibration of the qubits in the system by determining the resonance frequencies of the relevant state transitions and their driving periods."
   ]
  },
  {
   "cell_type": "code",
   "execution_count": null,
   "metadata": {},
   "outputs": [],
   "source": [
    "# calibration of QB1\n",
    "xq1i.qb1_calibration()"
   ]
  },
  {
   "cell_type": "code",
   "execution_count": null,
   "metadata": {},
   "outputs": [],
   "source": [
    "# calibration of QB2 (either \"partial\" [no DDRF calib] or \"full\" [including DDRF calib])\n",
    "xq1i.qb2_calibration(type='partial')"
   ]
  },
  {
   "cell_type": "code",
   "execution_count": null,
   "metadata": {},
   "outputs": [],
   "source": [
    "# calibration of QB3\n",
    "xq1i.qb3_calibration()"
   ]
  },
  {
   "cell_type": "code",
   "execution_count": null,
   "metadata": {},
   "outputs": [],
   "source": [
    "# calibration of QB4\n",
    "xq1i.qb4_calibration()"
   ]
  },
  {
   "cell_type": "markdown",
   "metadata": {},
   "source": [
    "### Example 1: execution of a two-qubit circuit\n",
    "The next cell defines a quantum circuit for a calibrated two-qubit system (consisting of QB1 and QB2), executes it, and outputs the measured final populations of the four computational basis states. The measurement results are saved into the subfolder `measurement_results`.\n",
    "\n",
    "The computational basis states are:\n",
    "- `00`: $|0\\rangle_\\textrm{el} \\otimes |0\\rangle_\\textrm{14N}$\n",
    "- `01`: $|0\\rangle_\\textrm{el} \\otimes |1\\rangle_\\textrm{14N}$\n",
    "- `10`: $|1\\rangle_\\textrm{el} \\otimes |0\\rangle_\\textrm{14N}$\n",
    "- `11`: $|1\\rangle_\\textrm{el} \\otimes |1\\rangle_\\textrm{14N}$\n",
    "\n",
    "Any of the computational basis states can be chosen as the initial state of the circuit.\n",
    "\n",
    "The quantum circuit is defined as a list of native gates. Each gate of the circuit takes the following parameters:\n",
    "- gate name\n",
    "- qubit acted upon\n",
    "- optional gate parameter (only relvant for some gates, see list of native gates below)\n",
    "\n",
    "The following native gates are available:\n",
    "- `sx(n)`: $\\sqrt{X}$, performs a $\\pi/2$ rotation on qubit $n$ (with $n \\in \\{1,2\\}$) along the x-axis of the Bloch sphere\n",
    "- `rz(n)[theta]`: $R_z(\\theta)$, performs a rotation by angle $\\theta$ along the z-axis on qubit $n$ (with $n \\in \\{1,2\\}$), where $\\theta$ is provided as optional gate parameter (unit: degrees)\n",
    "- `noop[t_delay]`: delays the execution of all subsequent gates in the circuit by a duration $t_\\mathrm{delay} \\geq 0$, where $t_\\mathrm{delay}$ is provided as optional gate parameter (unit: seconds)\n",
    "- `c0x(n)`: controlled NOT of qubit $n$ (with $n \\in \\{1,2\\}$) if the control qubit $c$ (with $c=2$ if $n=1$, and vice versa) is in state 0\n",
    "- `c1x(n)`: controlled NOT of qubit $n$ (with $n \\in \\{2\\}$) if the control qubit $c$ (with $c \\in \\{1\\}$) is in state 1"
   ]
  },
  {
   "cell_type": "code",
   "execution_count": null,
   "metadata": {},
   "outputs": [],
   "source": [
    "sweeps = 60e3\n",
    "initState = libxq1i.TQstates.State00\n",
    "qcQB12 = [\n",
    "    xq1i.gate(\"sx\", 1),\n",
    "    xq1i.gate(\"sx\", 2),\n",
    "    xq1i.gate(\"c0x\", 2),\n",
    "    xq1i.gate(\"c0x\", 1),\n",
    "]\n",
    "xq1i.run_quantum_circuit(ciruit=qcQB12, initState=initState, sweeps=sweeps)"
   ]
  },
  {
   "cell_type": "markdown",
   "metadata": {},
   "source": [
    "### Example 2: execution of a three-qubit circuit\n",
    "The next cell defines a quantum circuit for a calibrated three-qubit system (QB1, QB2, QB3), executes it, and outputs the measured final populations of the eight computational basis states. The measurement results are saved into the subfolder `measurement_results`.\n",
    "\n",
    "The computational basis states are in this case:\n",
    "- `000`: $|0\\rangle_\\textrm{el} \\otimes |0\\rangle_\\textrm{14N} \\otimes |0\\rangle_{\\textrm{13C}_1}$\n",
    "- `001`: $|0\\rangle_\\textrm{el} \\otimes |0\\rangle_\\textrm{14N} \\otimes |1\\rangle_{\\textrm{13C}_1}$\n",
    "- `010`: $|0\\rangle_\\textrm{el} \\otimes |1\\rangle_\\textrm{14N} \\otimes |0\\rangle_{\\textrm{13C}_1}$\n",
    "- `011`: $|0\\rangle_\\textrm{el} \\otimes |1\\rangle_\\textrm{14N} \\otimes |1\\rangle_{\\textrm{13C}_1}$\n",
    "- `100`: $|1\\rangle_\\textrm{el} \\otimes |0\\rangle_\\textrm{14N} \\otimes |0\\rangle_{\\textrm{13C}_1}$\n",
    "- `101`: $|1\\rangle_\\textrm{el} \\otimes |0\\rangle_\\textrm{14N} \\otimes |1\\rangle_{\\textrm{13C}_1}$\n",
    "- `110`: $|1\\rangle_\\textrm{el} \\otimes |1\\rangle_\\textrm{14N} \\otimes |0\\rangle_{\\textrm{13C}_1}$\n",
    "- `111`: $|1\\rangle_\\textrm{el} \\otimes |1\\rangle_\\textrm{14N} \\otimes |1\\rangle_{\\textrm{13C}_1}$\n",
    "\n",
    "The gate set listed above for the two-qubit example is now extended by the following three additional gates:\n",
    "- `sx(3)`: $\\sqrt{X}$, performs a $\\pi/2$ rotation on QB3 along the x-axis of the Bloch sphere\n",
    "- `rz(3)[theta]`: $R_z(\\theta)$, performs a rotation by angle $\\theta$ along the z-axis on QB3\n",
    "- `crotx(3)`: $|0\\rangle\\langle 0|^{(c)} \\otimes R_x^{(n)}\\left(\\frac{\\pi}{2}\\right) + |1\\rangle\\langle 1|^{(c)} \\otimes R_x^{(n)}\\left(-\\frac{\\pi}{2}\\right)$, conditional rotation of QB3 ($n \\in \\{3\\}$), with QB1 being the control qubit ($c \\in \\{1\\}$)"
   ]
  },
  {
   "cell_type": "code",
   "execution_count": null,
   "metadata": {},
   "outputs": [],
   "source": [
    "sweeps = 50e3\n",
    "initState = libxq1i.ThrQstates.State000\n",
    "qcQB123 = [\n",
    "    xq1i.gate(\"sx\", 1),\n",
    "    xq1i.gate(\"sx\", 2),\n",
    "    xq1i.gate(\"c0x\", 2),\n",
    "    xq1i.gate(\"sx\", 3),\n",
    "    xq1i.gate(\"rz\", 3, 45),\n",
    "    xq1i.gate(\"crotx\", 3),\n",
    "]\n",
    "xq1i.run_quantum_circuit(ciruit=qcQB123, initState=initState, sweeps=sweeps)"
   ]
  },
  {
   "cell_type": "code",
   "execution_count": null,
   "metadata": {},
   "outputs": [],
   "source": [
    "test = { key: 0 for key in range(1,11)}\n",
    "test[1] = 0\n",
    "test[3] = 1\n",
    "test[7] = 1\n",
    "xq1i.calcThrQPopulations( test )"
   ]
  }
 ],
 "metadata": {
  "celltoolbar": "Edit Metadata",
  "kernelspec": {
   "display_name": "qudi",
   "language": "python",
   "name": "qudi"
  },
  "language_info": {
   "codemirror_mode": {
    "name": "ipython",
    "version": 3
   },
   "file_extension": ".py",
   "mimetype": "text/x-python",
   "name": "python",
   "nbconvert_exporter": "python",
   "pygments_lexer": "ipython3",
   "version": "3.10.12"
  }
 },
 "nbformat": 4,
 "nbformat_minor": 4
}
